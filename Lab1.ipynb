{
  "nbformat": 4,
  "nbformat_minor": 0,
  "metadata": {
    "colab": {
      "name": "Lab1.ipynb",
      "provenance": [],
      "collapsed_sections": [],
      "authorship_tag": "ABX9TyPzqeQSnsWE7mt1WQq4Rk6a",
      "include_colab_link": true
    },
    "kernelspec": {
      "name": "python3",
      "display_name": "Python 3"
    },
    "language_info": {
      "name": "python"
    }
  },
  "cells": [
    {
      "cell_type": "markdown",
      "metadata": {
        "id": "view-in-github",
        "colab_type": "text"
      },
      "source": [
        "<a href=\"https://colab.research.google.com/github/nathaliejdt/CPEN-21A-ECE2-3/blob/main/Lab1.ipynb\" target=\"_parent\"><img src=\"https://colab.research.google.com/assets/colab-badge.svg\" alt=\"Open In Colab\"/></a>"
      ]
    },
    {
      "cell_type": "markdown",
      "metadata": {
        "id": "rGtuySjJm0uX"
      },
      "source": [
        "##Laboratory 1"
      ]
    },
    {
      "cell_type": "code",
      "metadata": {
        "colab": {
          "base_uri": "https://localhost:8080/"
        },
        "id": "t-VlLpulf4AC",
        "outputId": "4211fba5-13e2-4585-f05e-510a5401df08"
      },
      "source": [
        "W = \"Welcome to Python Programming\" #This code shows a string of words\n",
        "print(W)"
      ],
      "execution_count": 1,
      "outputs": [
        {
          "output_type": "stream",
          "name": "stdout",
          "text": [
            "Welcome to Python Programming\n"
          ]
        }
      ]
    },
    {
      "cell_type": "code",
      "metadata": {
        "colab": {
          "base_uri": "https://localhost:8080/"
        },
        "id": "4bHtPfuthugv",
        "outputId": "1d34e16f-12a2-42b0-abaf-698c4d91e7a3"
      },
      "source": [
        "Name = \"Nathalie J. de Torres\"\n",
        "Address = \"Maitim 2nd East, Tagaytay City\"\n",
        "Age = \"20 years old\"\n",
        "print(\"Name:\" ,Name)\n",
        "print(\"Address:\" ,Address)\n",
        "print(\"Age:\" ,Age)\n",
        "\n"
      ],
      "execution_count": 8,
      "outputs": [
        {
          "output_type": "stream",
          "name": "stdout",
          "text": [
            "Name: Nathalie J. de Torres\n",
            "Address: Maitim 2nd East, Tagaytay City\n",
            "Age: 20 years old\n"
          ]
        }
      ]
    }
  ]
}