{
  "nbformat": 4,
  "nbformat_minor": 0,
  "metadata": {
    "colab": {
      "name": "Midterm Exam.ipynb",
      "provenance": [],
      "authorship_tag": "ABX9TyO/4B90RcR2x8SF7pRXqcZb",
      "include_colab_link": true
    },
    "kernelspec": {
      "name": "python3",
      "display_name": "Python 3"
    },
    "language_info": {
      "name": "python"
    }
  },
  "cells": [
    {
      "cell_type": "markdown",
      "metadata": {
        "id": "view-in-github",
        "colab_type": "text"
      },
      "source": [
        "<a href=\"https://colab.research.google.com/github/nathaliejdt/CPEN-21A-ECE2-3/blob/main/Midterm_Exam.ipynb\" target=\"_parent\"><img src=\"https://colab.research.google.com/assets/colab-badge.svg\" alt=\"Open In Colab\"/></a>"
      ]
    },
    {
      "cell_type": "markdown",
      "metadata": {
        "id": "3PmbZ0I6r8rC"
      },
      "source": [
        "#Midterm Exam"
      ]
    },
    {
      "cell_type": "markdown",
      "metadata": {
        "id": "4TGfPHu6ukor"
      },
      "source": [
        "###Problem Statement 1"
      ]
    },
    {
      "cell_type": "code",
      "metadata": {
        "id": "Uf7mDzADsA40",
        "colab": {
          "base_uri": "https://localhost:8080/"
        },
        "outputId": "8d86f0c7-94ce-4f4d-86fa-f2a5d2ae15e6"
      },
      "source": [
        "Full_Name = \"Nathalie J. de Torres\"\n",
        "Student_Number = \"202015805\"\n",
        "Age = \"20 years old\"\n",
        "Birthday = \"December 2, 2000\"\n",
        "Address = \"Maitim 2nd East, Tagaytay City\"\n",
        "Course = \"Bachelor of Science in Electronics and Communication Engineering\"\n",
        "Last_Sem_GWA = \"1.42\"\n",
        "\n",
        "print(\"Full Name:\" ,Full_Name)\n",
        "print(\"Student Number:\" ,Student_Number)\n",
        "print(\"Age:\" ,Age)\n",
        "print(\"Birthday:\" ,Birthday)\n",
        "print(\"Address:\" ,Address)\n",
        "print(\"Course:\" ,Course)\n",
        "print(\"Last Sem GWA:\" ,Last_Sem_GWA)\n"
      ],
      "execution_count": 44,
      "outputs": [
        {
          "output_type": "stream",
          "name": "stdout",
          "text": [
            "Full Name: Nathalie J. de Torres\n",
            "Student Number: 202015805\n",
            "Age: 20 years old\n",
            "Birthday: December 2, 2000\n",
            "Address: Maitim 2nd East, Tagaytay City\n",
            "Course: Bachelor of Science in Electronics and Communication Engineering\n",
            "Last Sem GWA: 1.42\n"
          ]
        }
      ]
    },
    {
      "cell_type": "markdown",
      "metadata": {
        "id": "7GZIySzmuxCl"
      },
      "source": [
        "###Problem Statement 2"
      ]
    },
    {
      "cell_type": "code",
      "metadata": {
        "colab": {
          "base_uri": "https://localhost:8080/"
        },
        "id": "EXTSKsLNuex2",
        "outputId": "11387140-44d9-4f9e-d6d3-633d4e327166"
      },
      "source": [
        "n = 4\n",
        "answ = \"Y\"\n",
        "\n",
        "print(\"a.\", (2<n) and (n<6))                       \n",
        "print(\"b.\", (2<n) or (n==6))                       \n",
        "print(\"c.\", not(2<n) or (n==6))                    \n",
        "print(\"d.\", not(n<6))                              \n",
        "print(\"e.\", (answ==\"Y\") or (answ==\"y\"))           \n",
        "print(\"f.\", (answ==\"Y\") and (answ==\"y\"))          \n",
        "print(\"g.\", not(answ==\"y\"))                       \n",
        "print(\"h.\", ((2<n) and (n==5+1)) or (answ==\"No\"))  \n",
        "print(\"i.\", ((n==2) and (n==7)) or (answ==\"Y\"))   \n",
        "print(\"j.\", n==2) and ((n==7) or (answ==\"Y\"))      "
      ],
      "execution_count": 43,
      "outputs": [
        {
          "output_type": "stream",
          "name": "stdout",
          "text": [
            "a. True\n",
            "b. True\n",
            "c. False\n",
            "d. False\n",
            "e. True\n",
            "f. False\n",
            "g. True\n",
            "h. False\n",
            "i. True\n",
            "j. False\n"
          ]
        }
      ]
    },
    {
      "cell_type": "markdown",
      "metadata": {
        "id": "QWq9Zl3AvgL6"
      },
      "source": [
        "###Problem Statement 3"
      ]
    },
    {
      "cell_type": "code",
      "metadata": {
        "colab": {
          "base_uri": "https://localhost:8080/"
        },
        "id": "CQq3mOhWvkDu",
        "outputId": "cf7dc094-8319-4d00-a0d8-74678ea2b8e8"
      },
      "source": [
        "x = 2\n",
        "y = -3\n",
        "w = 7\n",
        "z = -10\n",
        "\n",
        "print(\"a.\", x/y)          \n",
        "print(\"b.\", w/y/x)        \n",
        "print(\"c.\", z/y%x)        \n",
        "print(\"d.\", x%-y*w)       \n",
        "print(\"e.\", x%y)          \n",
        "print(\"f.\", z%w-y/x*5+5)  \n",
        "print(\"g.\", 9-x%(2+y))    \n",
        "print(\"h.\", z//w)         \n",
        "print(\"i.\", (2+y)**2)     \n",
        "print(\"j.\", w/x*2)        "
      ],
      "execution_count": 42,
      "outputs": [
        {
          "output_type": "stream",
          "name": "stdout",
          "text": [
            "a. -0.6666666666666666\n",
            "b. -1.1666666666666667\n",
            "c. 1.3333333333333335\n",
            "d. 14\n",
            "e. -1\n",
            "f. 16.5\n",
            "g. 9\n",
            "h. -2\n",
            "i. 1\n",
            "j. 7.0\n"
          ]
        }
      ]
    }
  ]
}