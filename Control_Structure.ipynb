{
  "nbformat": 4,
  "nbformat_minor": 0,
  "metadata": {
    "colab": {
      "name": "Control Structure.ipynb",
      "provenance": [],
      "authorship_tag": "ABX9TyP78eCi3c1HKZCuA1cXfqIK",
      "include_colab_link": true
    },
    "kernelspec": {
      "name": "python3",
      "display_name": "Python 3"
    },
    "language_info": {
      "name": "python"
    }
  },
  "cells": [
    {
      "cell_type": "markdown",
      "metadata": {
        "id": "view-in-github",
        "colab_type": "text"
      },
      "source": [
        "<a href=\"https://colab.research.google.com/github/nathaliejdt/CPEN-21A-ECE2-3/blob/main/Control_Structure.ipynb\" target=\"_parent\"><img src=\"https://colab.research.google.com/assets/colab-badge.svg\" alt=\"Open In Colab\"/></a>"
      ]
    },
    {
      "cell_type": "markdown",
      "metadata": {
        "id": "pe7Vl0zExf1e"
      },
      "source": [
        "##If Statement"
      ]
    },
    {
      "cell_type": "code",
      "metadata": {
        "id": "lLhRgtHhxbdq"
      },
      "source": [
        "a = 12\n",
        "b = 100\n",
        "if a>b:\n",
        "  print(\"a is less than b\")"
      ],
      "execution_count": 2,
      "outputs": []
    },
    {
      "cell_type": "markdown",
      "metadata": {
        "id": "7f1hPMNfzXsp"
      },
      "source": [
        "##Elif Statement"
      ]
    },
    {
      "cell_type": "code",
      "metadata": {
        "colab": {
          "base_uri": "https://localhost:8080/"
        },
        "id": "91eAzwtEzYNf",
        "outputId": "150c1b12-2959-45f0-f6c1-b4beb047d9c7"
      },
      "source": [
        "a = 30\n",
        "b = 15\n",
        "if a<b:\n",
        "  print(\"a is less than b\")\n",
        "elif a>b:\n",
        "  print(\"a is greater than b\")"
      ],
      "execution_count": 3,
      "outputs": [
        {
          "output_type": "stream",
          "name": "stdout",
          "text": [
            "a is greater than b\n"
          ]
        }
      ]
    },
    {
      "cell_type": "markdown",
      "metadata": {
        "id": "is2Wi4RN0BQE"
      },
      "source": [
        "##Else Statement"
      ]
    },
    {
      "cell_type": "code",
      "metadata": {
        "colab": {
          "base_uri": "https://localhost:8080/"
        },
        "id": "I-wLBvki0Bw-",
        "outputId": "6c1b3660-e2ad-44c2-d01a-0270ac39c3bc"
      },
      "source": [
        "a = 30\n",
        "b = 30\n",
        "if a<b:\n",
        "  print(\"a is less than b\")\n",
        "elif a>b:\n",
        "  print(\"a is greater than b\")\n",
        "else:\n",
        "  print(\"a is equal to b\")"
      ],
      "execution_count": 5,
      "outputs": [
        {
          "output_type": "stream",
          "name": "stdout",
          "text": [
            "a is equal to b\n"
          ]
        }
      ]
    },
    {
      "cell_type": "markdown",
      "metadata": {
        "id": "G4ifpEbO0zDl"
      },
      "source": [
        "##Short Hand If Statement"
      ]
    },
    {
      "cell_type": "code",
      "metadata": {
        "id": "Ov883HtC0zdk"
      },
      "source": [
        "a = 16\n",
        "b = 22\n",
        "\n",
        "if a>b: print(\"a is greater than b\")"
      ],
      "execution_count": 9,
      "outputs": []
    },
    {
      "cell_type": "markdown",
      "metadata": {
        "id": "QdmL10_t1Mx0"
      },
      "source": [
        "##Short Hand If.. Else Statement"
      ]
    },
    {
      "cell_type": "code",
      "metadata": {
        "colab": {
          "base_uri": "https://localhost:8080/"
        },
        "id": "88xOb1JB1R2s",
        "outputId": "ad8ada1c-ff80-4280-e3bf-2d5762b33c1a"
      },
      "source": [
        "print(\"a is greater than b\") if a>b else print(\"b is greater than a\")"
      ],
      "execution_count": 10,
      "outputs": [
        {
          "output_type": "stream",
          "name": "stdout",
          "text": [
            "b is greater than a\n"
          ]
        }
      ]
    },
    {
      "cell_type": "markdown",
      "metadata": {
        "id": "XoCemBAb2a9W"
      },
      "source": [
        "And Logic condition"
      ]
    },
    {
      "cell_type": "code",
      "metadata": {
        "colab": {
          "base_uri": "https://localhost:8080/"
        },
        "id": "8CEibF8Z2fEM",
        "outputId": "25266a30-c9b4-474b-bbdc-a9d209f48fdb"
      },
      "source": [
        "a = 200\n",
        "b = 33\n",
        "c = 500\n",
        "if a>b and c>a:\n",
        "  print(\"Both conditions are True\")\n",
        "else:\n",
        "  print(\"Eitheer of the two condition is True\")"
      ],
      "execution_count": 11,
      "outputs": [
        {
          "output_type": "stream",
          "name": "stdout",
          "text": [
            "Both conditions are True\n"
          ]
        }
      ]
    },
    {
      "cell_type": "markdown",
      "metadata": {
        "id": "8_oEDh2i3DQp"
      },
      "source": [
        "Or logic condition"
      ]
    },
    {
      "cell_type": "code",
      "metadata": {
        "colab": {
          "base_uri": "https://localhost:8080/"
        },
        "id": "RHVdj-o83GpD",
        "outputId": "acbfb5ed-2fe2-42b7-de5d-42894c72a806"
      },
      "source": [
        "if a<b or c>a:\n",
        "  print(\"True\")\n",
        "else:\n",
        "  print(\"False\")"
      ],
      "execution_count": 12,
      "outputs": [
        {
          "output_type": "stream",
          "name": "stdout",
          "text": [
            "True\n"
          ]
        }
      ]
    },
    {
      "cell_type": "markdown",
      "metadata": {
        "id": "S7rr_x3N3prc"
      },
      "source": [
        "Nested if"
      ]
    },
    {
      "cell_type": "code",
      "metadata": {
        "colab": {
          "base_uri": "https://localhost:8080/"
        },
        "id": "lyvpTWYa3qYO",
        "outputId": "d8415676-7154-4182-902e-1f4a3ec43adc"
      },
      "source": [
        "x = 11\n",
        "if x>10:\n",
        "  print(\"Above 10\")\n",
        "  if x>20:\n",
        "    print(\"and above 20!\")\n",
        "    if x>30:\n",
        "      print(\"and above 30\")\n",
        "    else:\n",
        "      print(\"not above 30\")\n",
        "  else:\n",
        "    print(\"not above 20\")\n",
        "else:\n",
        "  print(\"below 10\")\n"
      ],
      "execution_count": 15,
      "outputs": [
        {
          "output_type": "stream",
          "name": "stdout",
          "text": [
            "Above 10\n",
            "not above 20\n"
          ]
        }
      ]
    },
    {
      "cell_type": "markdown",
      "metadata": {
        "id": "ZSlZML1y5vee"
      },
      "source": [
        "Example 1"
      ]
    },
    {
      "cell_type": "code",
      "metadata": {
        "colab": {
          "base_uri": "https://localhost:8080/"
        },
        "id": "ofHxLIRe51Cp",
        "outputId": "eed77dc8-1d16-43b9-f482-9841dbecc9ef"
      },
      "source": [
        "age = int(input(\"Enter your age:\"))\n",
        "if age>=18:\n",
        "  print(\"Qualified to Vote\")\n",
        "else:\n",
        "  print(\"Not Qualified to Vote\")\n"
      ],
      "execution_count": 31,
      "outputs": [
        {
          "output_type": "stream",
          "name": "stdout",
          "text": [
            "Enter your age:16\n",
            "Not Qualified to Vote\n"
          ]
        }
      ]
    },
    {
      "cell_type": "markdown",
      "metadata": {
        "id": "d0W6nVVB_hYv"
      },
      "source": [
        "Example 2"
      ]
    },
    {
      "cell_type": "code",
      "metadata": {
        "colab": {
          "base_uri": "https://localhost:8080/"
        },
        "id": "eQxTDyKc_huf",
        "outputId": "e1816bc0-4ba5-41eb-d56a-1de7ed8406e2"
      },
      "source": [
        "#Write a program that determines if the input number is POSITIVE, NEGATIVE, or ZERO\n",
        "\n",
        "number = float(input(\"Enter a number\"))\n",
        "if number>0:\n",
        "  print(\"Number is POSITIVE\")\n",
        "elif number<0:\n",
        "  print(\"Number is NEGATIVE\")\n",
        "else:\n",
        "  print(\"Number is ZERO\")"
      ],
      "execution_count": 35,
      "outputs": [
        {
          "output_type": "stream",
          "name": "stdout",
          "text": [
            "Enter a number12.04\n",
            "Number is POSITIVE\n"
          ]
        }
      ]
    },
    {
      "cell_type": "markdown",
      "metadata": {
        "id": "US7Skyo58Sil"
      },
      "source": [
        "Example 3"
      ]
    },
    {
      "cell_type": "code",
      "metadata": {
        "colab": {
          "base_uri": "https://localhost:8080/"
        },
        "id": "cJr2PcaT8UAk",
        "outputId": "85c2b9ae-beec-45bd-d215-743288e9da6c"
      },
      "source": [
        "#Write a Python program that determines if the grades are:\n",
        "#grade> = 75 \"Passed\"\n",
        "#grade==74 \"Remedial\"\n",
        "#grade<74 \"Failed\"\n",
        "\n",
        "grade = float(input(\"Enter your grade:\"))\n",
        "if grade>=75:\n",
        "  print(\"You Passed\")\n",
        "elif grade>74 and grade<75:\n",
        "  print(\"Remedial\")\n",
        "else:\n",
        "  print(\"You Failed\")"
      ],
      "execution_count": 33,
      "outputs": [
        {
          "output_type": "stream",
          "name": "stdout",
          "text": [
            "Enter your grade:74.9\n",
            "Remedial\n"
          ]
        }
      ]
    }
  ]
}