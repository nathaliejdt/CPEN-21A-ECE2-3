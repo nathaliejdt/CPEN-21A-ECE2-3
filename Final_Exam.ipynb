{
  "nbformat": 4,
  "nbformat_minor": 0,
  "metadata": {
    "colab": {
      "name": "Final Exam.ipynb",
      "provenance": [],
      "collapsed_sections": [],
      "authorship_tag": "ABX9TyOZoirfVCbqLK7zZA1N0pnO",
      "include_colab_link": true
    },
    "kernelspec": {
      "name": "python3",
      "display_name": "Python 3"
    },
    "language_info": {
      "name": "python"
    }
  },
  "cells": [
    {
      "cell_type": "markdown",
      "metadata": {
        "id": "view-in-github",
        "colab_type": "text"
      },
      "source": [
        "<a href=\"https://colab.research.google.com/github/nathaliejdt/CPEN-21A-ECE2-3/blob/main/Final_Exam.ipynb\" target=\"_parent\"><img src=\"https://colab.research.google.com/assets/colab-badge.svg\" alt=\"Open In Colab\"/></a>"
      ]
    },
    {
      "cell_type": "markdown",
      "source": [
        "##Final Exam"
      ],
      "metadata": {
        "id": "UNkKdpUGBKDT"
      }
    },
    {
      "cell_type": "markdown",
      "source": [
        "Problem Statement 1"
      ],
      "metadata": {
        "id": "deeAp-0RBNQg"
      }
    },
    {
      "cell_type": "code",
      "source": [
        "sum = 0\n",
        "number = [\"-5\", \"-4\", \"-3\", \"-2\", \"-1\", \"0\", \"1\", \"2\", \"3\", \"4\"]\n",
        "\n",
        "for x in number:\n",
        "  sum = sum + int(x)\n",
        "print(sum)"
      ],
      "metadata": {
        "colab": {
          "base_uri": "https://localhost:8080/"
        },
        "id": "tToskEHUBT-d",
        "outputId": "124e270e-3b5a-4745-9331-59f6c21c3432"
      },
      "execution_count": null,
      "outputs": [
        {
          "output_type": "stream",
          "name": "stdout",
          "text": [
            "-5\n"
          ]
        }
      ]
    },
    {
      "cell_type": "markdown",
      "source": [
        "Problem Statement 2"
      ],
      "metadata": {
        "id": "3gaxGosJEyOq"
      }
    },
    {
      "cell_type": "code",
      "source": [
        "count = 0\n",
        "\n",
        "while count < 5:\n",
        "  num_input = float(input(\"Enter a number: \"))\n",
        "  \n",
        "  count += 1\n",
        "  if count == 1:\n",
        "    number1 = num_input\n",
        "  elif count == 5:\n",
        "    number5 = num_input\n",
        "print(\"sum of the first and last number =\", number1 + number5)"
      ],
      "metadata": {
        "colab": {
          "base_uri": "https://localhost:8080/"
        },
        "id": "7X9njwZAZTuM",
        "outputId": "c06055f2-0bd9-4d5c-b2c4-3b1aee887057"
      },
      "execution_count": 13,
      "outputs": [
        {
          "output_type": "stream",
          "name": "stdout",
          "text": [
            "Enter a number: 12\n",
            "Enter a number: 20\n",
            "Enter a number: 32\n",
            "Enter a number: 41\n",
            "Enter a number: 33\n",
            "sum of the first and last number = 45.0\n"
          ]
        }
      ]
    },
    {
      "cell_type": "markdown",
      "source": [
        "Problem Statement 3"
      ],
      "metadata": {
        "id": "Tcdm9dZmE1tp"
      }
    },
    {
      "cell_type": "code",
      "source": [
        "range = float(input(\"Enter your range: \"))\n",
        "\n",
        "if range>=90:\n",
        "  grade = \"A\"\n",
        "else:\n",
        "  if range>=80: \n",
        "   grade = \"B\"\n",
        "  else:\n",
        "    if range>=70:\n",
        "      grade = \"C\"\n",
        "    else:\n",
        "      if range>=60:\n",
        "        grade = \"D\"\n",
        "      else:\n",
        "        grade = \"F\"\n",
        "        \n",
        "print(grade)"
      ],
      "metadata": {
        "colab": {
          "base_uri": "https://localhost:8080/"
        },
        "id": "pXElglh1Th1p",
        "outputId": "b27c64c2-4cab-46b4-acd8-d400cdcdf3b7"
      },
      "execution_count": 34,
      "outputs": [
        {
          "output_type": "stream",
          "name": "stdout",
          "text": [
            "Enter your range: 67\n",
            "D\n"
          ]
        }
      ]
    }
  ]
}