{
  "nbformat": 4,
  "nbformat_minor": 0,
  "metadata": {
    "colab": {
      "name": "Expressions and Operations.ipynb",
      "provenance": [],
      "authorship_tag": "ABX9TyM42fQbiyQGOwX35i5o3eBK",
      "include_colab_link": true
    },
    "kernelspec": {
      "name": "python3",
      "display_name": "Python 3"
    },
    "language_info": {
      "name": "python"
    }
  },
  "cells": [
    {
      "cell_type": "markdown",
      "metadata": {
        "id": "view-in-github",
        "colab_type": "text"
      },
      "source": [
        "<a href=\"https://colab.research.google.com/github/nathaliejdt/CPEN-21A-ECE2-3/blob/main/Expressions_and_Operations.ipynb\" target=\"_parent\"><img src=\"https://colab.research.google.com/assets/colab-badge.svg\" alt=\"Open In Colab\"/></a>"
      ]
    },
    {
      "cell_type": "markdown",
      "metadata": {
        "id": "4ud5_KAgqtey"
      },
      "source": [
        "##Boolean Operators"
      ]
    },
    {
      "cell_type": "code",
      "metadata": {
        "colab": {
          "base_uri": "https://localhost:8080/"
        },
        "id": "nlRiKL2qpxAe",
        "outputId": "642ff253-b06e-476e-94db-f8ebc641d049"
      },
      "source": [
        "a = 1\n",
        "b = 2\n",
        "print(a>b)\n",
        "print(a<b)\n",
        "print(a==a)\n",
        "print(a!=b)"
      ],
      "execution_count": 4,
      "outputs": [
        {
          "output_type": "stream",
          "name": "stdout",
          "text": [
            "False\n",
            "True\n",
            "True\n",
            "True\n"
          ]
        }
      ]
    },
    {
      "cell_type": "markdown",
      "metadata": {
        "id": "E_Dwg66Xraly"
      },
      "source": [
        "##bool() function"
      ]
    },
    {
      "cell_type": "code",
      "metadata": {
        "colab": {
          "base_uri": "https://localhost:8080/"
        },
        "id": "43pkE4IKrTGc",
        "outputId": "b5cda798-2fde-4189-9d4c-b6a99e6a81c0"
      },
      "source": [
        "print(bool(15))\n",
        "print(bool(True))\n",
        "print(bool(1))\n",
        "\n",
        "print(bool(False))\n",
        "print(bool(0))\n",
        "print(bool(None))\n",
        "print(bool([]))"
      ],
      "execution_count": 23,
      "outputs": [
        {
          "output_type": "stream",
          "name": "stdout",
          "text": [
            "True\n",
            "True\n",
            "True\n",
            "False\n",
            "False\n",
            "False\n",
            "False\n"
          ]
        }
      ]
    },
    {
      "cell_type": "markdown",
      "metadata": {
        "id": "_ojT-ZCdsNu6"
      },
      "source": [
        "##Fuctions return a Boolean"
      ]
    },
    {
      "cell_type": "code",
      "metadata": {
        "colab": {
          "base_uri": "https://localhost:8080/"
        },
        "id": "BRssuOCNsSQI",
        "outputId": "90967805-a79b-4071-9f37-8a4e5c21bbcf"
      },
      "source": [
        "def myFunction(): return True\n",
        "\n",
        "print(myFunction())"
      ],
      "execution_count": 28,
      "outputs": [
        {
          "output_type": "stream",
          "name": "stdout",
          "text": [
            "True\n"
          ]
        }
      ]
    },
    {
      "cell_type": "code",
      "metadata": {
        "colab": {
          "base_uri": "https://localhost:8080/"
        },
        "id": "-Zrwxe3rsol5",
        "outputId": "289294a6-02ff-4137-b023-cb9c3ec9ef36"
      },
      "source": [
        "def myFunction(): return True\n",
        "\n",
        "if myFunction():\n",
        "  print(\"True\")\n",
        "else:\n",
        "  print(\"False\")\n"
      ],
      "execution_count": 32,
      "outputs": [
        {
          "output_type": "stream",
          "name": "stdout",
          "text": [
            "True\n"
          ]
        }
      ]
    },
    {
      "cell_type": "code",
      "metadata": {
        "colab": {
          "base_uri": "https://localhost:8080/"
        },
        "id": "sk2V-t48syrF",
        "outputId": "2a8f38a5-9a84-4e3c-d463-f8a5409fe3f4"
      },
      "source": [
        "print(10>0)\n",
        "print(10<9)\n",
        "print(10==9)"
      ],
      "execution_count": 15,
      "outputs": [
        {
          "output_type": "stream",
          "name": "stdout",
          "text": [
            "True\n",
            "False\n",
            "False\n"
          ]
        }
      ]
    },
    {
      "cell_type": "markdown",
      "metadata": {
        "id": "OjRYNROLtS_8"
      },
      "source": [
        "##Arithmetic Operator"
      ]
    },
    {
      "cell_type": "code",
      "metadata": {
        "colab": {
          "base_uri": "https://localhost:8080/"
        },
        "id": "uvSmX6mftSuI",
        "outputId": "fd76cfd6-2738-4685-8ef0-9a842344b93c"
      },
      "source": [
        "print(10+5)\n",
        "print(10-5)\n",
        "print(10*5)\n",
        "print(10/5)\n",
        "print(10%5) #modulo division that that shows the remainder after division\n",
        "print(10//3) #floor division, 3.33\n",
        "print(10**2) #concatenation"
      ],
      "execution_count": 22,
      "outputs": [
        {
          "output_type": "stream",
          "name": "stdout",
          "text": [
            "15\n",
            "5\n",
            "50\n",
            "2.0\n",
            "0\n",
            "3\n",
            "100\n"
          ]
        }
      ]
    },
    {
      "cell_type": "markdown",
      "metadata": {
        "id": "LkgbiPMZuKUN"
      },
      "source": [
        "##Bitwise Operators"
      ]
    },
    {
      "cell_type": "code",
      "metadata": {
        "colab": {
          "base_uri": "https://localhost:8080/"
        },
        "id": "Cw52PMXRuLFr",
        "outputId": "041e7309-b4c4-4805-f97b-498d80793ba6"
      },
      "source": [
        "a = 60 #0011 1100\n",
        "b = 13 #0000 1101\n",
        "\n",
        "print(a & b)\n",
        "print(a | b)\n",
        "print(a^b)\n",
        "\n",
        "print(a<<2)#0011 1100  0111 1000-120\n",
        "print(a>>1)#0001 1110-30         carry bit-0"
      ],
      "execution_count": 47,
      "outputs": [
        {
          "output_type": "stream",
          "name": "stdout",
          "text": [
            "12\n",
            "61\n",
            "49\n",
            "240\n",
            "30\n"
          ]
        }
      ]
    },
    {
      "cell_type": "markdown",
      "metadata": {
        "id": "OC46U0a-wVUX"
      },
      "source": [
        "##Assignment Operator"
      ]
    },
    {
      "cell_type": "code",
      "metadata": {
        "colab": {
          "base_uri": "https://localhost:8080/"
        },
        "id": "Q-XCFTo5wVym",
        "outputId": "89b4c354-7087-4ae1-b208-b091cae45391"
      },
      "source": [
        "a+=3 #Same As a = a + 3, a =60+3, a+63\n",
        "print(a)"
      ],
      "execution_count": 64,
      "outputs": [
        {
          "output_type": "stream",
          "name": "stdout",
          "text": [
            "63\n"
          ]
        }
      ]
    },
    {
      "cell_type": "markdown",
      "metadata": {
        "id": "2E8akuY20epU"
      },
      "source": [
        "##Logical Operator"
      ]
    },
    {
      "cell_type": "code",
      "metadata": {
        "colab": {
          "base_uri": "https://localhost:8080/"
        },
        "id": "kpLzdI9s0fC8",
        "outputId": "3462e08c-e3d2-4f43-8ab9-189ded772040"
      },
      "source": [
        "a = 60\n",
        "b = 13\n",
        " \n",
        "print(a>b and b>a)\n",
        "print(a==a or b==b) \n",
        "print(not(a==a or b==b))"
      ],
      "execution_count": 61,
      "outputs": [
        {
          "output_type": "stream",
          "name": "stdout",
          "text": [
            "False\n",
            "True\n",
            "False\n"
          ]
        }
      ]
    },
    {
      "cell_type": "markdown",
      "metadata": {
        "id": "XQFK-Euf1-Gh"
      },
      "source": [
        "##Identity Operators"
      ]
    },
    {
      "cell_type": "code",
      "metadata": {
        "colab": {
          "base_uri": "https://localhost:8080/"
        },
        "id": "71_koZY52BRU",
        "outputId": "4b5fffb9-242a-4e0d-dc5c-6d1befd892a5"
      },
      "source": [
        "print(a is b)\n",
        "print(a is not b)"
      ],
      "execution_count": 63,
      "outputs": [
        {
          "output_type": "stream",
          "name": "stdout",
          "text": [
            "False\n",
            "True\n"
          ]
        }
      ]
    }
  ]
}